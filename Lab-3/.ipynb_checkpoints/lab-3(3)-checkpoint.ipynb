{
 "cells": [
  {
   "cell_type": "code",
   "execution_count": 82,
   "metadata": {},
   "outputs": [],
   "source": [
    "#We import the necessary libraries\n",
    "%matplotlib inline\n",
    "import pandas as pd\n",
    "import numpy as np\n",
    "import matplotlib.pyplot as plt\n",
    "import datetime\n",
    "from pandas.api.types import is_numeric_dtype"
   ]
  },
  {
   "cell_type": "code",
   "execution_count": 83,
   "metadata": {},
   "outputs": [],
   "source": [
    "#We have downloaded the csv file and import using the copy-path  \n",
    "url= r\"C:\\Users\\berry\\OneDrive - OsloMet\\Lab-Introduksjon-til-kunstlig-intelligens\\Lab-3\\flight.csv\"\n",
    "df = pd.read_csv(url, sep=',')"
   ]
  },
  {
   "cell_type": "code",
   "execution_count": 84,
   "metadata": {},
   "outputs": [],
   "source": [
    "#We have converted columns to data time. \n",
    "datetime_columns = ['datetime_val', 'dep_time', 'arr_time', 'sched_arr_time']\n",
    "for column in datetime_columns:\n",
    "    df[column] = pd.to_datetime(df[column], errors='coerce') #We handled errors carefully using 'errors='coerce' to avoid errors and replace them with NaT."
   ]
  },
  {
   "cell_type": "code",
   "execution_count": 85,
   "metadata": {},
   "outputs": [],
   "source": [
    "#We corrected negatives time because some flights cross midnight leading to negative times. \n",
    "#we correct these by adding a day to arrival times that are before departure times.\n",
    "for index, row in df.iterrows():\n",
    "    if row['arr_time'] < row['dep_time']:\n",
    "        df.loc[index, 'arr_time'] += datetime.timedelta(days=1)\n",
    "    if row['sched_arr_time'] < row['dep_time']:\n",
    "        df.loc[index, 'sched_arr_time'] += datetime.timedelta(days=1)"
   ]
  },
  {
   "cell_type": "code",
   "execution_count": 86,
   "metadata": {},
   "outputs": [],
   "source": [
    "#We claculate new columns. \n",
    "df['air_time'] = df['arr_time'] - df['dep_time']\n",
    "df['delay'] = df['arr_time'] - df['sched_arr_time']\n",
    "df['percent_delay'] = (100 * df['delay'].dt.total_seconds()) / df['air_time'].dt.total_seconds()"
   ]
  },
  {
   "cell_type": "code",
   "execution_count": 87,
   "metadata": {},
   "outputs": [],
   "source": [
    "#We correct negative Air Time. \n",
    "for index, row in df.iterrows():\n",
    "    if row['air_time'].days < 0:\n",
    "        df.loc[index, 'air_time'] = datetime.timedelta(hours=24) - (row['air_time'] + datetime.timedelta(days=abs(row['air_time'].days)))"
   ]
  },
  {
   "cell_type": "code",
   "execution_count": 88,
   "metadata": {},
   "outputs": [
    {
     "data": {
      "image/png": "[encoded data removed]",
      "text/plain": [
       "<Figure size 640x480 with 1 Axes>"
      ]
     },
     "metadata": {},
     "output_type": "display_data"
    }
   ],
   "source": [
    "#We plotted the 'percent_delay' values, and y-axis are set between 150 and -3000.\n",
    "ax = df[\"percent_delay\"].plot.box()\n",
    "ax.set_ylim(-3000, 150)\n",
    "plt.show()\n"
   ]
  },
  {
   "cell_type": "code",
   "execution_count": 89,
   "metadata": {},
   "outputs": [
    {
     "name": "stdout",
     "output_type": "stream",
     "text": [
      "count    121373.000000\n",
      "mean        -29.735566\n",
      "std         206.591444\n",
      "min       -2919.565217\n",
      "25%         -14.838710\n",
      "50%          -4.864865\n",
      "75%           6.172840\n",
      "max         100.000000\n",
      "Name: percent_delay, dtype: float64\n"
     ]
    }
   ],
   "source": [
    "#Prints statistical summary of the 'percent_delay' column.\n",
    "print(df[\"percent_delay\"].describe())"
   ]
  },
  {
   "cell_type": "code",
   "execution_count": 90,
   "metadata": {},
   "outputs": [
    {
     "data": {
      "text/plain": [
       "Unnamed: 0                      60788\n",
       "datetime_val      2013-04-01 20:40:00\n",
       "dep_time          2013-04-01 22:45:00\n",
       "arr_time          2013-04-01 23:31:00\n",
       "sched_arr_time    2013-04-02 21:54:00\n",
       "flight                           1178\n",
       "origin                            EWR\n",
       "dest                              BOS\n",
       "air_time              0 days 00:46:00\n",
       "delay               -1 days +01:37:00\n",
       "percent_delay            -2919.565217\n",
       "Name: 59583, dtype: object"
      ]
     },
     "execution_count": 90,
     "metadata": {},
     "output_type": "execute_result"
    }
   ],
   "source": [
    "#Finds the index of the minimum value in 'percent_delay' and prints the corresponding row.\n",
    "minrow= df['percent_delay'].idxmin()\n",
    "df.iloc[minrow]"
   ]
  }
 ],
 "metadata": {
  "kernelspec": {
   "display_name": "Python 3 (ipykernel)",
   "language": "python",
   "name": "python3"
  },
  "language_info": {
   "codemirror_mode": {
    "name": "ipython",
    "version": 3
   },
   "file_extension": ".py",
   "mimetype": "text/x-python",
   "name": "python",
   "nbconvert_exporter": "python",
   "pygments_lexer": "ipython3",
   "version": "3.8.17"
  }
 },
 "nbformat": 4,
 "nbformat_minor": 2
}

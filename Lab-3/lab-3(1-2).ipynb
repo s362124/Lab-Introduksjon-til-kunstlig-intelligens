{
 "cells": [
  {
   "cell_type": "code",
   "execution_count": 26,
   "metadata": {},
   "outputs": [],
   "source": [
    "from faker import Faker  # Importing the Faker class from the faker library, used for generating fake data.\n",
    "import pandas as pd  # Importing the pandas library for data manipulation and analysis, aliased as pd.\n",
    "from faker.providers.credit_card import Provider as CreditCardProvider  # Importing Provider class from faker.providers.credit_card and naming it CreditCardProvider, allowing faker to generate fake credit card information.\n",
    "import re  # Importing the re module, which provides support for regular expressions."
   ]
  },
  {
   "cell_type": "markdown",
   "metadata": {},
   "source": [
    "Task 1: "
   ]
  },
  {
   "cell_type": "code",
   "execution_count": 27,
   "metadata": {},
   "outputs": [],
   "source": [
    "# Initializing a Faker instance with Norwegian locale to generate data with Norwegian names and structures.\n",
    "fake = Faker(['no_NO'])\n"
   ]
  },
  {
   "cell_type": "code",
   "execution_count": 28,
   "metadata": {},
   "outputs": [],
   "source": [
    "# Initializing an empty DataFrame with specified column names to store generated data.\n",
    "df = pd.DataFrame(columns=['Name', 'Address', 'Personal Number', 'Credit Card', 'IPv4'])\n"
   ]
  },
  {
   "cell_type": "code",
   "execution_count": 29,
   "metadata": {},
   "outputs": [],
   "source": [
    "# Populating the DataFrame with 100 rows of fake data, each row representing a different individual.\n",
    "for i in range(100):\n",
    "    df.loc[i] = (fake.name(), fake.address().replace(\"\\n\", \", \"), fake.ssn(), fake.credit_card_number(), fake.ipv4())\n"
   ]
  },
  {
   "cell_type": "code",
   "execution_count": 30,
   "metadata": {},
   "outputs": [],
   "source": [
    "# Save the DataFrame directly to a CSV file\n",
    "df.to_csv(\"fake_persons.csv\", index=False)"
   ]
  },
  {
   "cell_type": "code",
   "execution_count": 31,
   "metadata": {},
   "outputs": [
    {
     "data": {
      "text/html": [
       "<div>\n",
       "<style scoped>\n",
       "    .dataframe tbody tr th:only-of-type {\n",
       "        vertical-align: middle;\n",
       "    }\n",
       "\n",
       "    .dataframe tbody tr th {\n",
       "        vertical-align: top;\n",
       "    }\n",
       "\n",
       "    .dataframe thead th {\n",
       "        text-align: right;\n",
       "    }\n",
       "</style>\n",
       "<table border=\"1\" class=\"dataframe\">\n",
       "  <thead>\n",
       "    <tr style=\"text-align: right;\">\n",
       "      <th></th>\n",
       "      <th>Name</th>\n",
       "      <th>Address</th>\n",
       "      <th>Personal Number</th>\n",
       "      <th>Credit Card</th>\n",
       "      <th>IPv4</th>\n",
       "    </tr>\n",
       "  </thead>\n",
       "  <tbody>\n",
       "    <tr>\n",
       "      <th>0</th>\n",
       "      <td>Lene Strøm</td>\n",
       "      <td>Jacobsentoppen 6A, 4129 Jacobsen</td>\n",
       "      <td>7043922437</td>\n",
       "      <td>213117276321358</td>\n",
       "      <td>216.104.13.172</td>\n",
       "    </tr>\n",
       "    <tr>\n",
       "      <th>1</th>\n",
       "      <td>Roar Edvardsen</td>\n",
       "      <td>Myhretoppen 49D, 0776 Jørgensen</td>\n",
       "      <td>5044641161</td>\n",
       "      <td>373150725656419</td>\n",
       "      <td>79.98.25.162</td>\n",
       "    </tr>\n",
       "    <tr>\n",
       "      <th>2</th>\n",
       "      <td>John Ahmed</td>\n",
       "      <td>Knutsenplassen 3A, 9509 Andersen</td>\n",
       "      <td>11053542001</td>\n",
       "      <td>344398063188430</td>\n",
       "      <td>158.167.52.148</td>\n",
       "    </tr>\n",
       "  </tbody>\n",
       "</table>\n",
       "</div>"
      ],
      "text/plain": [
       "             Name                           Address  Personal Number  \\\n",
       "0      Lene Strøm  Jacobsentoppen 6A, 4129 Jacobsen       7043922437   \n",
       "1  Roar Edvardsen   Myhretoppen 49D, 0776 Jørgensen       5044641161   \n",
       "2      John Ahmed  Knutsenplassen 3A, 9509 Andersen      11053542001   \n",
       "\n",
       "       Credit Card            IPv4  \n",
       "0  213117276321358  216.104.13.172  \n",
       "1  373150725656419    79.98.25.162  \n",
       "2  344398063188430  158.167.52.148  "
      ]
     },
     "execution_count": 31,
     "metadata": {},
     "output_type": "execute_result"
    }
   ],
   "source": [
    "#Download the cvs file\n",
    "#Read the csv, notice sep=','.. For CSV files created in Norwegian excel we need to use sep=';'#\n",
    "#df = pd.read_csv(url, na_values=' ') we can use this for automatically convert blank space to nan values\n",
    "url= r\"C:\\Users\\berry\\OneDrive - OsloMet\\Lab-Introduksjon-til-kunstlig-intelligens\\Lab-3\\fake_persons.csv\"\n",
    "df = pd.read_csv(url, sep=',')\n",
    "df.head(3)"
   ]
  },
  {
   "cell_type": "markdown",
   "metadata": {},
   "source": [
    "Task 2:"
   ]
  },
  {
   "cell_type": "code",
   "execution_count": 32,
   "metadata": {},
   "outputs": [],
   "source": [
    "#Creating messages for the first 10 rows.\n",
    "textArray = []  # Create an empty array\n",
    "# Iterate over the first 10 rows in the DataFrame\n",
    "for i in range(10):\n",
    "    row = df.iloc[i]\n",
    "    name = row.iloc[0]\n",
    "    address = row.iloc[1]\n",
    "    ssn = row.iloc[2]\n",
    "    cc = row.iloc[3]\n",
    "   "
   ]
  },
  {
   "cell_type": "code",
   "execution_count": 33,
   "metadata": {},
   "outputs": [],
   "source": [
    "# Using f-string to create a message and append it to the textArray\n",
    "textArray.append(f'Hi, my name is {name}. I wonder if you deliver to {address}. My credit card nr is {cc} and my ssn is {ssn}')"
   ]
  },
  {
   "cell_type": "code",
   "execution_count": 34,
   "metadata": {},
   "outputs": [],
   "source": [
    "def anonymize_text(text): \n",
    "    # Replace names after 'my name is ' with '[REDACTED_NAME]'\n",
    "    text = re.sub(r'(?<=my name is )[\\w\\s]+', '[REDACTED_NAME]', text)\n",
    "    # Replace addresses after 'deliver to ' with '[REDACTED_ADDRESS]'\n",
    "    text = re.sub(r'(?<=deliver to )[^.]+', '[REDACTED_ADDRESS]', text)\n",
    "    return text"
   ]
  },
  {
   "cell_type": "code",
   "execution_count": 35,
   "metadata": {},
   "outputs": [
    {
     "name": "stdout",
     "output_type": "stream",
     "text": [
      "Original:  Hi, my name is Tom Lund-Bøe. I wonder if you deliver to Svendsenhaugen 92, 8628 Martinevær. My credit card nr is 372961516680744 and my ssn is 2018444626\n",
      "Anonymized:  Hi, my name is [REDACTED_NAME]-Bøe. I wonder if you deliver to [REDACTED_ADDRESS]. My credit card nr is 372961516680744 and my ssn is 2018444626\n",
      "\n",
      "\n"
     ]
    }
   ],
   "source": [
    "#And here we applied the anonymization function to each text in the 'textArray'.\n",
    "for line in textArray:\n",
    "    anonymized_line = anonymize_text(line)\n",
    "    print(\"Original: \", line)\n",
    "    print(\"Anonymized: \", anonymized_line)\n",
    "    print(\"\\n\")"
   ]
  }
 ],
 "metadata": {
  "kernelspec": {
   "display_name": "Python 3",
   "language": "python",
   "name": "python3"
  },
  "language_info": {
   "codemirror_mode": {
    "name": "ipython",
    "version": 3
   },
   "file_extension": ".py",
   "mimetype": "text/x-python",
   "name": "python",
   "nbconvert_exporter": "python",
   "pygments_lexer": "ipython3",
   "version": "3.10.11"
  },
  "orig_nbformat": 4
 },
 "nbformat": 4,
 "nbformat_minor": 2
}
